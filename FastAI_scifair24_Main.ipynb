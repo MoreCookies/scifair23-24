{
  "nbformat": 4,
  "nbformat_minor": 0,
  "metadata": {
    "colab": {
      "provenance": [],
      "machine_shape": "hm",
      "gpuType": "V100",
      "include_colab_link": true
    },
    "kernelspec": {
      "name": "python3",
      "display_name": "Python 3"
    },
    "language_info": {
      "name": "python"
    },
    "accelerator": "GPU"
  },
  "cells": [
    {
      "cell_type": "markdown",
      "metadata": {
        "id": "view-in-github",
        "colab_type": "text"
      },
      "source": [
        "<a href=\"https://colab.research.google.com/github/MoreCookies/scifair23-24/blob/main/FastAI_scifair24_Main.ipynb\" target=\"_parent\"><img src=\"https://colab.research.google.com/assets/colab-badge.svg\" alt=\"Open In Colab\"/></a>"
      ]
    },
    {
      "cell_type": "code",
      "source": [
        "import os\n",
        "import urllib.request\n",
        "import zipfile\n",
        "\n",
        "\n",
        "urls = {\n",
        "    \"train\" : \"https://isic-challenge-data.s3.amazonaws.com/2018/ISIC2018_Task3_Training_Input.zip\",\n",
        "    \"train_ground_truth\" : \"https://isic-challenge-data.s3.amazonaws.com/2018/ISIC2018_Task3_Training_GroundTruth.zip\",\n",
        "    \"validation\" : \"https://isic-challenge-data.s3.amazonaws.com/2018/ISIC2018_Task3_Validation_Input.zip\",\n",
        "    \"validation_ground_truth\" : \"https://isic-challenge-data.s3.amazonaws.com/2018/ISIC2018_Task3_Validation_GroundTruth.zip\",\n",
        "    \"test\" : \"https://isic-challenge-data.s3.amazonaws.com/2018/ISIC2018_Task3_Test_Input.zip\",\n",
        "    \"test_ground_truth\" : \"https://isic-challenge-data.s3.amazonaws.com/2018/ISIC2018_Task3_Test_GroundTruth.zip\",\n",
        "    #\"train_seg\": \"https://isic-challenge-data.s3.amazonaws.com/2018/ISIC2018_Task1-2_Training_Input.zip\",\n",
        "    #\"train_seg_gt\": \"https://isic-challenge-data.s3.amazonaws.com/2018/ISIC2018_Task1_Training_GroundTruth.zip\",\n",
        "    #\"validation_seg\": \"https://isic-challenge-data.s3.amazonaws.com/2018/ISIC2018_Task1-2_Validation_Input.zip\",\n",
        "    #\"validation_seg_gt\": \"https://isic-challenge-data.s3.amazonaws.com/2018/ISIC2018_Task1_Validation_GroundTruth.zip\",\n",
        "    \"train_2019\" : \"https://isic-challenge-data.s3.amazonaws.com/2019/ISIC_2019_Training_Input.zip\",\n",
        "    \"train_gt_2019\" : \"https://isic-challenge-data.s3.amazonaws.com/2019/ISIC_2019_Training_GroundTruth.csv\"\n",
        "\n",
        "}\n",
        "\n",
        "def download_all():\n",
        "    for item in urls.items():\n",
        "        name = item[0]\n",
        "        url = item[1]\n",
        "        filename = f\"{name}.csv\"\n",
        "        if not url.endswith(\".csv\"):\n",
        "          filename = f\"{name}.zip\"\n",
        "        if os.path.exists(filename):\n",
        "            print(f\"already exists file {filename}\")\n",
        "        else:\n",
        "            print(f\"downloading {filename} from {url} ...\")\n",
        "            urllib.request.urlretrieve(url, filename)\n",
        "    print(f\"done downloading all\")\n",
        "\n",
        "def unzip_all():\n",
        "    for item in urls.items():\n",
        "        name = item[0]\n",
        "        url = item[1]\n",
        "        filename = f\"{name}.zip\"\n",
        "        print(filename)\n",
        "        if url.endswith(\".zip\"):\n",
        "          with zipfile.ZipFile(filename, 'r') as zip_ref:\n",
        "              print(f\"unzipping {filename} to folder\")\n",
        "              zip_ref.extractall(f\"{name}\")\n",
        "    print(f\"done unzipping all\")\n",
        "\n",
        "\n",
        "if __name__ == \"__main__\":\n",
        "    download_all()\n",
        "    unzip_all()"
      ],
      "metadata": {
        "colab": {
          "base_uri": "https://localhost:8080/"
        },
        "id": "klQZ2fA8gPEQ",
        "outputId": "fa3afaa8-1c72-477d-a242-b5cd1c7616da"
      },
      "execution_count": null,
      "outputs": [
        {
          "output_type": "stream",
          "name": "stdout",
          "text": [
            "downloading train.zip from https://isic-challenge-data.s3.amazonaws.com/2018/ISIC2018_Task3_Training_Input.zip ...\n",
            "downloading train_ground_truth.zip from https://isic-challenge-data.s3.amazonaws.com/2018/ISIC2018_Task3_Training_GroundTruth.zip ...\n",
            "downloading validation.zip from https://isic-challenge-data.s3.amazonaws.com/2018/ISIC2018_Task3_Validation_Input.zip ...\n",
            "downloading validation_ground_truth.zip from https://isic-challenge-data.s3.amazonaws.com/2018/ISIC2018_Task3_Validation_GroundTruth.zip ...\n",
            "downloading test.zip from https://isic-challenge-data.s3.amazonaws.com/2018/ISIC2018_Task3_Test_Input.zip ...\n",
            "downloading test_ground_truth.zip from https://isic-challenge-data.s3.amazonaws.com/2018/ISIC2018_Task3_Test_GroundTruth.zip ...\n",
            "downloading train_2019.zip from https://isic-challenge-data.s3.amazonaws.com/2019/ISIC_2019_Training_Input.zip ...\n",
            "downloading train_gt_2019.csv from https://isic-challenge-data.s3.amazonaws.com/2019/ISIC_2019_Training_GroundTruth.csv ...\n",
            "done downloading all\n",
            "train.zip\n",
            "unzipping train.zip to folder\n",
            "train_ground_truth.zip\n",
            "unzipping train_ground_truth.zip to folder\n",
            "validation.zip\n",
            "unzipping validation.zip to folder\n",
            "validation_ground_truth.zip\n",
            "unzipping validation_ground_truth.zip to folder\n",
            "test.zip\n",
            "unzipping test.zip to folder\n",
            "test_ground_truth.zip\n",
            "unzipping test_ground_truth.zip to folder\n",
            "train_2019.zip\n",
            "unzipping train_2019.zip to folder\n",
            "train_gt_2019.zip\n",
            "done unzipping all\n"
          ]
        }
      ]
    },
    {
      "cell_type": "code",
      "execution_count": 1,
      "metadata": {
        "id": "otNrk7oINuEX"
      },
      "outputs": [],
      "source": [
        "from fastai.vision.all import *\n",
        "import numpy as np\n",
        "import pandas as pd\n",
        "import matplotlib.pyplot as plt\n",
        "import shutil\n",
        "import os\n",
        "\n",
        "from glob import glob"
      ]
    },
    {
      "cell_type": "code",
      "source": [
        "shutil.copy(\"/content/train_ground_truth/ISIC2018_Task3_Training_GroundTruth/ISIC2018_Task3_Training_GroundTruth.csv\", \"/content/train/ISIC2018_Task3_Training_Input\")"
      ],
      "metadata": {
        "colab": {
          "base_uri": "https://localhost:8080/",
          "height": 35
        },
        "id": "8kYf7Fvkw7Aq",
        "outputId": "bc1538d4-d951-4d31-bfee-f7325432ee4b"
      },
      "execution_count": null,
      "outputs": [
        {
          "output_type": "execute_result",
          "data": {
            "text/plain": [
              "'/content/train/ISIC2018_Task3_Training_Input/ISIC2018_Task3_Training_GroundTruth.csv'"
            ],
            "application/vnd.google.colaboratory.intrinsic+json": {
              "type": "string"
            }
          },
          "metadata": {},
          "execution_count": 3
        }
      ]
    },
    {
      "cell_type": "code",
      "source": [
        "def format_csv(df, target=0):\n",
        "  #add extension\n",
        "  for i in range(len(df)):\n",
        "    if \".jpg\" not in df[\"image\"].iloc[i]:\n",
        "      df.at[i, 'image'] = df[\"image\"].iloc[i] + \".jpg\"\n",
        "\n",
        "  #create dx column\n",
        "  lesion_cols = df.drop(\"image\", axis=1).columns\n",
        "  if 'dx' in df.columns:\n",
        "    lesion_cols = df.drop([\"image\", \"dx\"], axis=1).columns\n",
        "\n",
        "  df[\"dx\"] = df[lesion_cols].idxmax(axis=1)\n",
        "  df = df.fillna(0.0)\n",
        "\n",
        "  if target != 0:\n",
        "    df.to_csv(target, index_label=False)\n",
        "  return df"
      ],
      "metadata": {
        "id": "o4D7vrHId2Cu"
      },
      "execution_count": 2,
      "outputs": []
    },
    {
      "cell_type": "code",
      "source": [
        "def get_intersection(df_1, df_2):\n",
        "  df1 = set(df_1[\"image\"])\n",
        "  df2 = set(df_2[\"image\"])\n",
        "\n",
        "  intersection = df1.intersection(df2)\n",
        "  AnotB = df1.difference(df2)\n",
        "  BnotA = df2.difference(df1)\n",
        "\n",
        "  return intersection, AnotB, BnotA"
      ],
      "metadata": {
        "id": "j8P4dJi7jxnA"
      },
      "execution_count": 3,
      "outputs": []
    },
    {
      "cell_type": "code",
      "source": [
        "def merge_data(target_path, target_csv, img_paths, csv_paths, target):\n",
        "  targ_csv = pd.read_csv(target_csv)\n",
        "\n",
        "  for i in range(len(img_paths)):\n",
        "    gt = pd.read_csv(csv_paths[i])\n",
        "    inter = get_intersection(targ_csv, gt)\n",
        "    #move images\n",
        "    for x in inter[2]:\n",
        "      if not x.endswith(\".jpg\"):\n",
        "        shutil.copy(os.path.join(img_paths[i], x+\".jpg\"), os.path.join(target_path, x+\".jpg\"))\n",
        "      else:\n",
        "        shutil.copy(os.path.join(img_paths[i], x+\".jpg\"), os.path.join(target_path, x+\".jpg\"))\n",
        "\n",
        "    #merge datasets\n",
        "    targ_csv = pd.concat([targ_csv, gt]).drop_duplicates().reset_index(drop=True)\n",
        "\n",
        "  print(\"done merge\")\n",
        "  return format_csv(targ_csv, target)\n"
      ],
      "metadata": {
        "id": "IJhahrIbjbhs"
      },
      "execution_count": 4,
      "outputs": []
    },
    {
      "cell_type": "code",
      "source": [
        "target_path = \"/content/train/ISIC2018_Task3_Training_Input\"\n",
        "target_csv = \"/content/train/ISIC2018_Task3_Training_Input/ISIC2018_Task3_Training_GroundTruth.csv\"\n",
        "\n",
        "img_paths = [\"/content/validation/ISIC2018_Task3_Validation_Input\", \"/content/train_2019/ISIC_2019_Training_Input\"]\n",
        "csv_paths = [\"/content/validation_ground_truth/ISIC2018_Task3_Validation_GroundTruth/ISIC2018_Task3_Validation_GroundTruth.csv\", \"/content/train_gt_2019.csv\"]\n",
        "\n",
        "target = \"/content/train/ISIC2018_Task3_Training_Input/Training_GroundTruth_Merged.csv\"\n",
        "\n",
        "gt = merge_data(target_path, target_csv, img_paths, csv_paths, target)"
      ],
      "metadata": {
        "colab": {
          "base_uri": "https://localhost:8080/"
        },
        "id": "hDGvrKS-wuRc",
        "outputId": "ff2911ed-6ed3-4270-bac0-a200ceb7943b"
      },
      "execution_count": null,
      "outputs": [
        {
          "output_type": "stream",
          "name": "stdout",
          "text": [
            "done merge\n"
          ]
        }
      ]
    },
    {
      "cell_type": "code",
      "source": [
        "gt.sample(10)"
      ],
      "metadata": {
        "colab": {
          "base_uri": "https://localhost:8080/",
          "height": 363
        },
        "id": "s-1CDqghQJNT",
        "outputId": "c218efd8-7bb4-4fad-c834-bdb90c578321"
      },
      "execution_count": null,
      "outputs": [
        {
          "output_type": "execute_result",
          "data": {
            "text/plain": [
              "                  image  MEL   NV  BCC  AKIEC  BKL   DF  VASC   AK  SCC  UNK  \\\n",
              "15687  ISIC_0026882.jpg  0.0  1.0  0.0    0.0  0.0  0.0   0.0  0.0  0.0  0.0   \n",
              "21359  ISIC_0032554.jpg  0.0  1.0  0.0    0.0  0.0  0.0   0.0  0.0  0.0  0.0   \n",
              "24657  ISIC_0055930.jpg  1.0  0.0  0.0    0.0  0.0  0.0   0.0  0.0  0.0  0.0   \n",
              "113    ISIC_0024419.jpg  0.0  1.0  0.0    0.0  0.0  0.0   0.0  0.0  0.0  0.0   \n",
              "15979  ISIC_0027174.jpg  1.0  0.0  0.0    0.0  0.0  0.0   0.0  0.0  0.0  0.0   \n",
              "13778  ISIC_0024973.jpg  0.0  0.0  0.0    0.0  0.0  1.0   0.0  0.0  0.0  0.0   \n",
              "1846   ISIC_0026152.jpg  0.0  0.0  0.0    1.0  0.0  0.0   0.0  0.0  0.0  0.0   \n",
              "30460  ISIC_0065247.jpg  1.0  0.0  0.0    0.0  0.0  0.0   0.0  0.0  0.0  0.0   \n",
              "20365  ISIC_0031560.jpg  0.0  1.0  0.0    0.0  0.0  0.0   0.0  0.0  0.0  0.0   \n",
              "28313  ISIC_0061784.jpg  0.0  1.0  0.0    0.0  0.0  0.0   0.0  0.0  0.0  0.0   \n",
              "\n",
              "          dx  \n",
              "15687     NV  \n",
              "21359     NV  \n",
              "24657    MEL  \n",
              "113       NV  \n",
              "15979    MEL  \n",
              "13778     DF  \n",
              "1846   AKIEC  \n",
              "30460    MEL  \n",
              "20365     NV  \n",
              "28313     NV  "
            ],
            "text/html": [
              "\n",
              "  <div id=\"df-11e818c3-5aa6-4fbc-9017-84a852b36a9c\" class=\"colab-df-container\">\n",
              "    <div>\n",
              "<style scoped>\n",
              "    .dataframe tbody tr th:only-of-type {\n",
              "        vertical-align: middle;\n",
              "    }\n",
              "\n",
              "    .dataframe tbody tr th {\n",
              "        vertical-align: top;\n",
              "    }\n",
              "\n",
              "    .dataframe thead th {\n",
              "        text-align: right;\n",
              "    }\n",
              "</style>\n",
              "<table border=\"1\" class=\"dataframe\">\n",
              "  <thead>\n",
              "    <tr style=\"text-align: right;\">\n",
              "      <th></th>\n",
              "      <th>image</th>\n",
              "      <th>MEL</th>\n",
              "      <th>NV</th>\n",
              "      <th>BCC</th>\n",
              "      <th>AKIEC</th>\n",
              "      <th>BKL</th>\n",
              "      <th>DF</th>\n",
              "      <th>VASC</th>\n",
              "      <th>AK</th>\n",
              "      <th>SCC</th>\n",
              "      <th>UNK</th>\n",
              "      <th>dx</th>\n",
              "    </tr>\n",
              "  </thead>\n",
              "  <tbody>\n",
              "    <tr>\n",
              "      <th>15687</th>\n",
              "      <td>ISIC_0026882.jpg</td>\n",
              "      <td>0.0</td>\n",
              "      <td>1.0</td>\n",
              "      <td>0.0</td>\n",
              "      <td>0.0</td>\n",
              "      <td>0.0</td>\n",
              "      <td>0.0</td>\n",
              "      <td>0.0</td>\n",
              "      <td>0.0</td>\n",
              "      <td>0.0</td>\n",
              "      <td>0.0</td>\n",
              "      <td>NV</td>\n",
              "    </tr>\n",
              "    <tr>\n",
              "      <th>21359</th>\n",
              "      <td>ISIC_0032554.jpg</td>\n",
              "      <td>0.0</td>\n",
              "      <td>1.0</td>\n",
              "      <td>0.0</td>\n",
              "      <td>0.0</td>\n",
              "      <td>0.0</td>\n",
              "      <td>0.0</td>\n",
              "      <td>0.0</td>\n",
              "      <td>0.0</td>\n",
              "      <td>0.0</td>\n",
              "      <td>0.0</td>\n",
              "      <td>NV</td>\n",
              "    </tr>\n",
              "    <tr>\n",
              "      <th>24657</th>\n",
              "      <td>ISIC_0055930.jpg</td>\n",
              "      <td>1.0</td>\n",
              "      <td>0.0</td>\n",
              "      <td>0.0</td>\n",
              "      <td>0.0</td>\n",
              "      <td>0.0</td>\n",
              "      <td>0.0</td>\n",
              "      <td>0.0</td>\n",
              "      <td>0.0</td>\n",
              "      <td>0.0</td>\n",
              "      <td>0.0</td>\n",
              "      <td>MEL</td>\n",
              "    </tr>\n",
              "    <tr>\n",
              "      <th>113</th>\n",
              "      <td>ISIC_0024419.jpg</td>\n",
              "      <td>0.0</td>\n",
              "      <td>1.0</td>\n",
              "      <td>0.0</td>\n",
              "      <td>0.0</td>\n",
              "      <td>0.0</td>\n",
              "      <td>0.0</td>\n",
              "      <td>0.0</td>\n",
              "      <td>0.0</td>\n",
              "      <td>0.0</td>\n",
              "      <td>0.0</td>\n",
              "      <td>NV</td>\n",
              "    </tr>\n",
              "    <tr>\n",
              "      <th>15979</th>\n",
              "      <td>ISIC_0027174.jpg</td>\n",
              "      <td>1.0</td>\n",
              "      <td>0.0</td>\n",
              "      <td>0.0</td>\n",
              "      <td>0.0</td>\n",
              "      <td>0.0</td>\n",
              "      <td>0.0</td>\n",
              "      <td>0.0</td>\n",
              "      <td>0.0</td>\n",
              "      <td>0.0</td>\n",
              "      <td>0.0</td>\n",
              "      <td>MEL</td>\n",
              "    </tr>\n",
              "    <tr>\n",
              "      <th>13778</th>\n",
              "      <td>ISIC_0024973.jpg</td>\n",
              "      <td>0.0</td>\n",
              "      <td>0.0</td>\n",
              "      <td>0.0</td>\n",
              "      <td>0.0</td>\n",
              "      <td>0.0</td>\n",
              "      <td>1.0</td>\n",
              "      <td>0.0</td>\n",
              "      <td>0.0</td>\n",
              "      <td>0.0</td>\n",
              "      <td>0.0</td>\n",
              "      <td>DF</td>\n",
              "    </tr>\n",
              "    <tr>\n",
              "      <th>1846</th>\n",
              "      <td>ISIC_0026152.jpg</td>\n",
              "      <td>0.0</td>\n",
              "      <td>0.0</td>\n",
              "      <td>0.0</td>\n",
              "      <td>1.0</td>\n",
              "      <td>0.0</td>\n",
              "      <td>0.0</td>\n",
              "      <td>0.0</td>\n",
              "      <td>0.0</td>\n",
              "      <td>0.0</td>\n",
              "      <td>0.0</td>\n",
              "      <td>AKIEC</td>\n",
              "    </tr>\n",
              "    <tr>\n",
              "      <th>30460</th>\n",
              "      <td>ISIC_0065247.jpg</td>\n",
              "      <td>1.0</td>\n",
              "      <td>0.0</td>\n",
              "      <td>0.0</td>\n",
              "      <td>0.0</td>\n",
              "      <td>0.0</td>\n",
              "      <td>0.0</td>\n",
              "      <td>0.0</td>\n",
              "      <td>0.0</td>\n",
              "      <td>0.0</td>\n",
              "      <td>0.0</td>\n",
              "      <td>MEL</td>\n",
              "    </tr>\n",
              "    <tr>\n",
              "      <th>20365</th>\n",
              "      <td>ISIC_0031560.jpg</td>\n",
              "      <td>0.0</td>\n",
              "      <td>1.0</td>\n",
              "      <td>0.0</td>\n",
              "      <td>0.0</td>\n",
              "      <td>0.0</td>\n",
              "      <td>0.0</td>\n",
              "      <td>0.0</td>\n",
              "      <td>0.0</td>\n",
              "      <td>0.0</td>\n",
              "      <td>0.0</td>\n",
              "      <td>NV</td>\n",
              "    </tr>\n",
              "    <tr>\n",
              "      <th>28313</th>\n",
              "      <td>ISIC_0061784.jpg</td>\n",
              "      <td>0.0</td>\n",
              "      <td>1.0</td>\n",
              "      <td>0.0</td>\n",
              "      <td>0.0</td>\n",
              "      <td>0.0</td>\n",
              "      <td>0.0</td>\n",
              "      <td>0.0</td>\n",
              "      <td>0.0</td>\n",
              "      <td>0.0</td>\n",
              "      <td>0.0</td>\n",
              "      <td>NV</td>\n",
              "    </tr>\n",
              "  </tbody>\n",
              "</table>\n",
              "</div>\n",
              "    <div class=\"colab-df-buttons\">\n",
              "\n",
              "  <div class=\"colab-df-container\">\n",
              "    <button class=\"colab-df-convert\" onclick=\"convertToInteractive('df-11e818c3-5aa6-4fbc-9017-84a852b36a9c')\"\n",
              "            title=\"Convert this dataframe to an interactive table.\"\n",
              "            style=\"display:none;\">\n",
              "\n",
              "  <svg xmlns=\"http://www.w3.org/2000/svg\" height=\"24px\" viewBox=\"0 -960 960 960\">\n",
              "    <path d=\"M120-120v-720h720v720H120Zm60-500h600v-160H180v160Zm220 220h160v-160H400v160Zm0 220h160v-160H400v160ZM180-400h160v-160H180v160Zm440 0h160v-160H620v160ZM180-180h160v-160H180v160Zm440 0h160v-160H620v160Z\"/>\n",
              "  </svg>\n",
              "    </button>\n",
              "\n",
              "  <style>\n",
              "    .colab-df-container {\n",
              "      display:flex;\n",
              "      gap: 12px;\n",
              "    }\n",
              "\n",
              "    .colab-df-convert {\n",
              "      background-color: #E8F0FE;\n",
              "      border: none;\n",
              "      border-radius: 50%;\n",
              "      cursor: pointer;\n",
              "      display: none;\n",
              "      fill: #1967D2;\n",
              "      height: 32px;\n",
              "      padding: 0 0 0 0;\n",
              "      width: 32px;\n",
              "    }\n",
              "\n",
              "    .colab-df-convert:hover {\n",
              "      background-color: #E2EBFA;\n",
              "      box-shadow: 0px 1px 2px rgba(60, 64, 67, 0.3), 0px 1px 3px 1px rgba(60, 64, 67, 0.15);\n",
              "      fill: #174EA6;\n",
              "    }\n",
              "\n",
              "    .colab-df-buttons div {\n",
              "      margin-bottom: 4px;\n",
              "    }\n",
              "\n",
              "    [theme=dark] .colab-df-convert {\n",
              "      background-color: #3B4455;\n",
              "      fill: #D2E3FC;\n",
              "    }\n",
              "\n",
              "    [theme=dark] .colab-df-convert:hover {\n",
              "      background-color: #434B5C;\n",
              "      box-shadow: 0px 1px 3px 1px rgba(0, 0, 0, 0.15);\n",
              "      filter: drop-shadow(0px 1px 2px rgba(0, 0, 0, 0.3));\n",
              "      fill: #FFFFFF;\n",
              "    }\n",
              "  </style>\n",
              "\n",
              "    <script>\n",
              "      const buttonEl =\n",
              "        document.querySelector('#df-11e818c3-5aa6-4fbc-9017-84a852b36a9c button.colab-df-convert');\n",
              "      buttonEl.style.display =\n",
              "        google.colab.kernel.accessAllowed ? 'block' : 'none';\n",
              "\n",
              "      async function convertToInteractive(key) {\n",
              "        const element = document.querySelector('#df-11e818c3-5aa6-4fbc-9017-84a852b36a9c');\n",
              "        const dataTable =\n",
              "          await google.colab.kernel.invokeFunction('convertToInteractive',\n",
              "                                                    [key], {});\n",
              "        if (!dataTable) return;\n",
              "\n",
              "        const docLinkHtml = 'Like what you see? Visit the ' +\n",
              "          '<a target=\"_blank\" href=https://colab.research.google.com/notebooks/data_table.ipynb>data table notebook</a>'\n",
              "          + ' to learn more about interactive tables.';\n",
              "        element.innerHTML = '';\n",
              "        dataTable['output_type'] = 'display_data';\n",
              "        await google.colab.output.renderOutput(dataTable, element);\n",
              "        const docLink = document.createElement('div');\n",
              "        docLink.innerHTML = docLinkHtml;\n",
              "        element.appendChild(docLink);\n",
              "      }\n",
              "    </script>\n",
              "  </div>\n",
              "\n",
              "\n",
              "<div id=\"df-7411ad57-2276-4db7-8d49-3d08200a93f4\">\n",
              "  <button class=\"colab-df-quickchart\" onclick=\"quickchart('df-7411ad57-2276-4db7-8d49-3d08200a93f4')\"\n",
              "            title=\"Suggest charts\"\n",
              "            style=\"display:none;\">\n",
              "\n",
              "<svg xmlns=\"http://www.w3.org/2000/svg\" height=\"24px\"viewBox=\"0 0 24 24\"\n",
              "     width=\"24px\">\n",
              "    <g>\n",
              "        <path d=\"M19 3H5c-1.1 0-2 .9-2 2v14c0 1.1.9 2 2 2h14c1.1 0 2-.9 2-2V5c0-1.1-.9-2-2-2zM9 17H7v-7h2v7zm4 0h-2V7h2v10zm4 0h-2v-4h2v4z\"/>\n",
              "    </g>\n",
              "</svg>\n",
              "  </button>\n",
              "\n",
              "<style>\n",
              "  .colab-df-quickchart {\n",
              "      --bg-color: #E8F0FE;\n",
              "      --fill-color: #1967D2;\n",
              "      --hover-bg-color: #E2EBFA;\n",
              "      --hover-fill-color: #174EA6;\n",
              "      --disabled-fill-color: #AAA;\n",
              "      --disabled-bg-color: #DDD;\n",
              "  }\n",
              "\n",
              "  [theme=dark] .colab-df-quickchart {\n",
              "      --bg-color: #3B4455;\n",
              "      --fill-color: #D2E3FC;\n",
              "      --hover-bg-color: #434B5C;\n",
              "      --hover-fill-color: #FFFFFF;\n",
              "      --disabled-bg-color: #3B4455;\n",
              "      --disabled-fill-color: #666;\n",
              "  }\n",
              "\n",
              "  .colab-df-quickchart {\n",
              "    background-color: var(--bg-color);\n",
              "    border: none;\n",
              "    border-radius: 50%;\n",
              "    cursor: pointer;\n",
              "    display: none;\n",
              "    fill: var(--fill-color);\n",
              "    height: 32px;\n",
              "    padding: 0;\n",
              "    width: 32px;\n",
              "  }\n",
              "\n",
              "  .colab-df-quickchart:hover {\n",
              "    background-color: var(--hover-bg-color);\n",
              "    box-shadow: 0 1px 2px rgba(60, 64, 67, 0.3), 0 1px 3px 1px rgba(60, 64, 67, 0.15);\n",
              "    fill: var(--button-hover-fill-color);\n",
              "  }\n",
              "\n",
              "  .colab-df-quickchart-complete:disabled,\n",
              "  .colab-df-quickchart-complete:disabled:hover {\n",
              "    background-color: var(--disabled-bg-color);\n",
              "    fill: var(--disabled-fill-color);\n",
              "    box-shadow: none;\n",
              "  }\n",
              "\n",
              "  .colab-df-spinner {\n",
              "    border: 2px solid var(--fill-color);\n",
              "    border-color: transparent;\n",
              "    border-bottom-color: var(--fill-color);\n",
              "    animation:\n",
              "      spin 1s steps(1) infinite;\n",
              "  }\n",
              "\n",
              "  @keyframes spin {\n",
              "    0% {\n",
              "      border-color: transparent;\n",
              "      border-bottom-color: var(--fill-color);\n",
              "      border-left-color: var(--fill-color);\n",
              "    }\n",
              "    20% {\n",
              "      border-color: transparent;\n",
              "      border-left-color: var(--fill-color);\n",
              "      border-top-color: var(--fill-color);\n",
              "    }\n",
              "    30% {\n",
              "      border-color: transparent;\n",
              "      border-left-color: var(--fill-color);\n",
              "      border-top-color: var(--fill-color);\n",
              "      border-right-color: var(--fill-color);\n",
              "    }\n",
              "    40% {\n",
              "      border-color: transparent;\n",
              "      border-right-color: var(--fill-color);\n",
              "      border-top-color: var(--fill-color);\n",
              "    }\n",
              "    60% {\n",
              "      border-color: transparent;\n",
              "      border-right-color: var(--fill-color);\n",
              "    }\n",
              "    80% {\n",
              "      border-color: transparent;\n",
              "      border-right-color: var(--fill-color);\n",
              "      border-bottom-color: var(--fill-color);\n",
              "    }\n",
              "    90% {\n",
              "      border-color: transparent;\n",
              "      border-bottom-color: var(--fill-color);\n",
              "    }\n",
              "  }\n",
              "</style>\n",
              "\n",
              "  <script>\n",
              "    async function quickchart(key) {\n",
              "      const quickchartButtonEl =\n",
              "        document.querySelector('#' + key + ' button');\n",
              "      quickchartButtonEl.disabled = true;  // To prevent multiple clicks.\n",
              "      quickchartButtonEl.classList.add('colab-df-spinner');\n",
              "      try {\n",
              "        const charts = await google.colab.kernel.invokeFunction(\n",
              "            'suggestCharts', [key], {});\n",
              "      } catch (error) {\n",
              "        console.error('Error during call to suggestCharts:', error);\n",
              "      }\n",
              "      quickchartButtonEl.classList.remove('colab-df-spinner');\n",
              "      quickchartButtonEl.classList.add('colab-df-quickchart-complete');\n",
              "    }\n",
              "    (() => {\n",
              "      let quickchartButtonEl =\n",
              "        document.querySelector('#df-7411ad57-2276-4db7-8d49-3d08200a93f4 button');\n",
              "      quickchartButtonEl.style.display =\n",
              "        google.colab.kernel.accessAllowed ? 'block' : 'none';\n",
              "    })();\n",
              "  </script>\n",
              "</div>\n",
              "\n",
              "    </div>\n",
              "  </div>\n"
            ],
            "application/vnd.google.colaboratory.intrinsic+json": {
              "type": "dataframe",
              "summary": "{\n  \"name\": \"gt\",\n  \"rows\": 10,\n  \"fields\": [\n    {\n      \"column\": \"image\",\n      \"properties\": {\n        \"dtype\": \"string\",\n        \"num_unique_values\": 10,\n        \"samples\": [\n          \"ISIC_0031560.jpg\",\n          \"ISIC_0032554.jpg\",\n          \"ISIC_0024973.jpg\"\n        ],\n        \"semantic_type\": \"\",\n        \"description\": \"\"\n      }\n    },\n    {\n      \"column\": \"MEL\",\n      \"properties\": {\n        \"dtype\": \"number\",\n        \"std\": 0.4830458915396479,\n        \"min\": 0.0,\n        \"max\": 1.0,\n        \"num_unique_values\": 2,\n        \"samples\": [\n          1.0,\n          0.0\n        ],\n        \"semantic_type\": \"\",\n        \"description\": \"\"\n      }\n    },\n    {\n      \"column\": \"NV\",\n      \"properties\": {\n        \"dtype\": \"number\",\n        \"std\": 0.5270462766947299,\n        \"min\": 0.0,\n        \"max\": 1.0,\n        \"num_unique_values\": 2,\n        \"samples\": [\n          0.0,\n          1.0\n        ],\n        \"semantic_type\": \"\",\n        \"description\": \"\"\n      }\n    },\n    {\n      \"column\": \"BCC\",\n      \"properties\": {\n        \"dtype\": \"number\",\n        \"std\": 0.0,\n        \"min\": 0.0,\n        \"max\": 0.0,\n        \"num_unique_values\": 1,\n        \"samples\": [\n          0.0\n        ],\n        \"semantic_type\": \"\",\n        \"description\": \"\"\n      }\n    },\n    {\n      \"column\": \"AKIEC\",\n      \"properties\": {\n        \"dtype\": \"number\",\n        \"std\": 0.31622776601683794,\n        \"min\": 0.0,\n        \"max\": 1.0,\n        \"num_unique_values\": 2,\n        \"samples\": [\n          1.0\n        ],\n        \"semantic_type\": \"\",\n        \"description\": \"\"\n      }\n    },\n    {\n      \"column\": \"BKL\",\n      \"properties\": {\n        \"dtype\": \"number\",\n        \"std\": 0.0,\n        \"min\": 0.0,\n        \"max\": 0.0,\n        \"num_unique_values\": 1,\n        \"samples\": [\n          0.0\n        ],\n        \"semantic_type\": \"\",\n        \"description\": \"\"\n      }\n    },\n    {\n      \"column\": \"DF\",\n      \"properties\": {\n        \"dtype\": \"number\",\n        \"std\": 0.31622776601683794,\n        \"min\": 0.0,\n        \"max\": 1.0,\n        \"num_unique_values\": 2,\n        \"samples\": [\n          1.0\n        ],\n        \"semantic_type\": \"\",\n        \"description\": \"\"\n      }\n    },\n    {\n      \"column\": \"VASC\",\n      \"properties\": {\n        \"dtype\": \"number\",\n        \"std\": 0.0,\n        \"min\": 0.0,\n        \"max\": 0.0,\n        \"num_unique_values\": 1,\n        \"samples\": [\n          0.0\n        ],\n        \"semantic_type\": \"\",\n        \"description\": \"\"\n      }\n    },\n    {\n      \"column\": \"AK\",\n      \"properties\": {\n        \"dtype\": \"number\",\n        \"std\": 0.0,\n        \"min\": 0.0,\n        \"max\": 0.0,\n        \"num_unique_values\": 1,\n        \"samples\": [\n          0.0\n        ],\n        \"semantic_type\": \"\",\n        \"description\": \"\"\n      }\n    },\n    {\n      \"column\": \"SCC\",\n      \"properties\": {\n        \"dtype\": \"number\",\n        \"std\": 0.0,\n        \"min\": 0.0,\n        \"max\": 0.0,\n        \"num_unique_values\": 1,\n        \"samples\": [\n          0.0\n        ],\n        \"semantic_type\": \"\",\n        \"description\": \"\"\n      }\n    },\n    {\n      \"column\": \"UNK\",\n      \"properties\": {\n        \"dtype\": \"number\",\n        \"std\": 0.0,\n        \"min\": 0.0,\n        \"max\": 0.0,\n        \"num_unique_values\": 1,\n        \"samples\": [\n          0.0\n        ],\n        \"semantic_type\": \"\",\n        \"description\": \"\"\n      }\n    },\n    {\n      \"column\": \"dx\",\n      \"properties\": {\n        \"dtype\": \"category\",\n        \"num_unique_values\": 4,\n        \"samples\": [\n          \"MEL\"\n        ],\n        \"semantic_type\": \"\",\n        \"description\": \"\"\n      }\n    }\n  ]\n}"
            }
          },
          "metadata": {},
          "execution_count": 10
        }
      ]
    },
    {
      "cell_type": "code",
      "source": [
        "def drop_values(df, value, count):\n",
        "    indexes = df.index[df['dx'] == value].tolist()\n",
        "\n",
        "    import random\n",
        "    rm_indexes = random.sample(indexes, count)\n",
        "\n",
        "    df = df.drop(rm_indexes, inplace=True)\n",
        "    return df\n"
      ],
      "metadata": {
        "id": "0zL2rv2VVDcC"
      },
      "execution_count": null,
      "outputs": []
    },
    {
      "cell_type": "markdown",
      "source": [
        "TODO\n",
        "\n",
        "Drop some NV\n",
        "\n",
        "\n"
      ],
      "metadata": {
        "id": "tacbAd_FN7GJ"
      }
    },
    {
      "cell_type": "code",
      "source": [
        "csv_path = \"/content/train/ISIC2018_Task3_Training_Input/Training_GroundTruth_Merged.csv\"\n",
        "gt = pd.read_csv(csv_path)\n",
        "\n",
        "dls = ImageDataLoaders.from_df(\n",
        "    gt,\n",
        "    path=\"/content/train/ISIC2018_Task3_Training_Input\",\n",
        "    csv_fname=csv_path,\n",
        "    label_col='dx',\n",
        "    item_tfms = Resize(460),\n",
        "    batch_tfms = aug_transforms(size=224, min_scale=0.75),\n",
        "    bs=64\n",
        ")\n"
      ],
      "metadata": {
        "id": "7kkzDAIjN3LA"
      },
      "execution_count": 6,
      "outputs": []
    },
    {
      "cell_type": "code",
      "source": [
        "def get_distribution(df, display=False):\n",
        "  res = {}\n",
        "  values = ['MEL','NV','BCC','AKIEC','BKL','DF','VASC','AK','SCC']\n",
        "  for i in values:\n",
        "    res[i] = df['dx'].value_counts()[i]\n",
        "\n",
        "  if display == True:\n",
        "    plt.bar(range(len(res)), list(res.values()), align='center')\n",
        "    plt.xticks(range(len(res)), list(res.keys()))\n",
        "\n",
        "    plt.show()\n",
        "  return res"
      ],
      "metadata": {
        "id": "MrrNHgBa7puX"
      },
      "execution_count": 24,
      "outputs": []
    },
    {
      "cell_type": "code",
      "source": [
        "def get_weights(labels):\n",
        "    weights_dict = {}\n",
        "    weights_list = []\n",
        "    distribution = get_distribution(labels)\n",
        "    total = sum(distribution.values())\n",
        "    for i in distribution.keys():\n",
        "      weight = 1-distribution[i]/total\n",
        "      weights_dict[i] = weight\n",
        "      weights_list.append(weight)\n",
        "\n",
        "    return weights_dict, weights_list\n"
      ],
      "metadata": {
        "id": "QcSxL4DlJtUG"
      },
      "execution_count": 8,
      "outputs": []
    },
    {
      "cell_type": "code",
      "source": [
        "weights = get_weights(gt)[1]\n",
        "weights = torch.FloatTensor(weights)\n",
        "print(weights)"
      ],
      "metadata": {
        "colab": {
          "base_uri": "https://localhost:8080/"
        },
        "id": "JsnkbEMklyl_",
        "outputId": "27439f57-107b-4e52-9bbb-8bbc6e2b3961"
      },
      "execution_count": 22,
      "outputs": [
        {
          "output_type": "stream",
          "name": "stdout",
          "text": [
            "tensor([0.8409, 0.4456, 0.8916, 0.9906, 0.8946, 0.9900, 0.9888, 0.9756, 0.9823])\n"
          ]
        }
      ]
    },
    {
      "cell_type": "code",
      "source": [
        "train_distribution = get_distribution(dls.train.items, True)\n",
        "valid_distribution = get_distribution(dls.valid.items, True)\n",
        "print(train_distribution)\n",
        "print(valid_distribution)"
      ],
      "metadata": {
        "colab": {
          "base_uri": "https://localhost:8080/",
          "height": 880
        },
        "id": "ly3Il7s2N_fx",
        "outputId": "6c9ac2c9-d4bc-4939-bddd-a53a87d3df3d"
      },
      "execution_count": 25,
      "outputs": [
        {
          "output_type": "display_data",
          "data": {
            "text/plain": [
              "<Figure size 640x480 with 1 Axes>"
            ],
            "image/png": "[encoded data removed]"
          },
          "metadata": {}
        },
        {
          "output_type": "display_data",
          "data": {
            "text/plain": [
              "<Figure size 640x480 with 1 Axes>"
            ],
            "image/png": "[encoded data removed]"
          },
          "metadata": {}
        },
        {
          "output_type": "stream",
          "name": "stdout",
          "text": [
            "{'MEL': 4500, 'NV': 15860, 'BCC': 3031, 'AKIEC': 273, 'BKL': 2972, 'DF': 283, 'VASC': 316, 'AK': 707, 'SCC': 490}\n",
            "{'MEL': 1156, 'NV': 3843, 'BCC': 821, 'AKIEC': 62, 'BKL': 773, 'DF': 72, 'VASC': 82, 'AK': 160, 'SCC': 138}\n"
          ]
        }
      ]
    },
    {
      "cell_type": "code",
      "source": [
        "#weights = get_weights(gt) #TODO: convert into pytorch tensor\n",
        "\n",
        "model = xresnet50()\n",
        "learn = Learner(dls, model, loss_func=CrossEntropyLossFlat(weight=weights), metrics=accuracy, cbs=ShowGraphCallback())\n",
        "learn.fit_one_cycle(5, 3e-3)"
      ],
      "metadata": {
        "id": "0R0HF_stcLly",
        "colab": {
          "base_uri": "https://localhost:8080/",
          "height": 206
        },
        "outputId": "fc015b8e-b3ef-4b6d-d25e-86f97371e4fb"
      },
      "execution_count": null,
      "outputs": [
        {
          "output_type": "display_data",
          "data": {
            "text/plain": [
              "<IPython.core.display.HTML object>"
            ],
            "text/html": [
              "\n",
              "<style>\n",
              "    /* Turns off some styling */\n",
              "    progress {\n",
              "        /* gets rid of default border in Firefox and Opera. */\n",
              "        border: none;\n",
              "        /* Needs to be in here for Safari polyfill so background images work as expected. */\n",
              "        background-size: auto;\n",
              "    }\n",
              "    progress:not([value]), progress:not([value])::-webkit-progress-bar {\n",
              "        background: repeating-linear-gradient(45deg, #7e7e7e, #7e7e7e 10px, #5c5c5c 10px, #5c5c5c 20px);\n",
              "    }\n",
              "    .progress-bar-interrupted, .progress-bar-interrupted::-webkit-progress-bar {\n",
              "        background: #F44336;\n",
              "    }\n",
              "</style>\n"
            ]
          },
          "metadata": {}
        },
        {
          "output_type": "display_data",
          "data": {
            "text/plain": [
              "<IPython.core.display.HTML object>"
            ],
            "text/html": [
              "<table border=\"1\" class=\"dataframe\">\n",
              "  <thead>\n",
              "    <tr style=\"text-align: left;\">\n",
              "      <th>epoch</th>\n",
              "      <th>train_loss</th>\n",
              "      <th>valid_loss</th>\n",
              "      <th>accuracy</th>\n",
              "      <th>time</th>\n",
              "    </tr>\n",
              "  </thead>\n",
              "  <tbody>\n",
              "    <tr>\n",
              "      <td>0</td>\n",
              "      <td>1.194309</td>\n",
              "      <td>1.206962</td>\n",
              "      <td>0.578725</td>\n",
              "      <td>02:39</td>\n",
              "    </tr>\n",
              "    <tr>\n",
              "      <td>1</td>\n",
              "      <td>1.085954</td>\n",
              "      <td>1.071913</td>\n",
              "      <td>0.624033</td>\n",
              "      <td>02:37</td>\n",
              "    </tr>\n",
              "    <tr>\n",
              "      <td>2</td>\n",
              "      <td>1.027455</td>\n",
              "      <td>1.072655</td>\n",
              "      <td>0.606304</td>\n",
              "      <td>02:40</td>\n",
              "    </tr>\n",
              "    <tr>\n",
              "      <td>3</td>\n",
              "      <td>0.947579</td>\n",
              "      <td>1.136471</td>\n",
              "      <td>0.620515</td>\n",
              "      <td>02:39</td>\n",
              "    </tr>\n",
              "    <tr>\n",
              "      <td>4</td>\n",
              "      <td>0.917734</td>\n",
              "      <td>0.888091</td>\n",
              "      <td>0.679612</td>\n",
              "      <td>02:40</td>\n",
              "    </tr>\n",
              "  </tbody>\n",
              "</table>"
            ]
          },
          "metadata": {}
        }
      ]
    },
    {
      "cell_type": "code",
      "source": [
        "# an example of normalization calculated on a batch of images\n",
        "# (because we aren't using normalization yet, you'll see the mean and standard deviation are not very close to\n",
        "# 0 and 1 respectively)\n",
        "x, y = dls.one_batch()\n",
        "\n",
        "x.mean(dim=[0,2,3]), x.std(dim=[0,2,3])"
      ],
      "metadata": {
        "id": "UNPClGv1cM8Q"
      },
      "execution_count": null,
      "outputs": []
    },
    {
      "cell_type": "code",
      "source": [
        "def get_dls(batch_size, image_size):\n",
        "  dls = ImageDataLoaders.from_df(\n",
        "    gt,\n",
        "    path=\"/content/train/ISIC2018_Task3_Training_Input\",\n",
        "    csv_fname=\"/content/train/ISIC2018_Task3_Training_Input/Training_GroundTruth_Merged.csv\",\n",
        "    label_col='dx',\n",
        "    item_tfms = Resize(460),\n",
        "    batch_tfms = [*aug_transforms(size=image_size, min_scale=0.75), Normalize.from_stats(*imagenet_stats)],\n",
        "    bs=batch_size\n",
        "  )\n",
        "  return dls"
      ],
      "metadata": {
        "id": "r9ER37tucOKV"
      },
      "execution_count": 11,
      "outputs": []
    },
    {
      "cell_type": "code",
      "source": [
        "dls = get_dls(64, 224)\n",
        "\n",
        "# an example of normalization calculated on a batch of images\n",
        "# (because we are using normalization now, the mean and standard deviation are very close to 0 and 1 respectively)\n",
        "x, y = dls.one_batch()\n",
        "print(x.mean(dim=[0,2,3]), x.std(dim=[0,2,3]))\n",
        "\n",
        "# does this normalization improve our model? Let's see ...\n",
        "model = xresnet50()\n",
        "learn = Learner(dls, model, loss_func=CrossEntropyLossFlat(), metrics=accuracy, cbs=ShowGraphCallback())\n",
        "learn.fit_one_cycle(5, 3e-3)"
      ],
      "metadata": {
        "id": "VJkIsO1ecPZO"
      },
      "execution_count": null,
      "outputs": []
    },
    {
      "cell_type": "markdown",
      "source": [
        "## Progressive Resizing"
      ],
      "metadata": {
        "id": "zn0ESCrKcQ35"
      }
    },
    {
      "cell_type": "code",
      "source": [
        "model = xresnet50(pretrained=False)\n",
        "model.fc = nn.Sequential(\n",
        "    nn.Dropout(0.5),\n",
        "    nn.AdaptiveMaxPool1d(128),\n",
        "    nn.Linear(128, 9)\n",
        ")\n",
        "\n",
        "dls = get_dls(128,128)\n",
        "learn = Learner(dls, model, loss_func=CrossEntropyLossFlat(weight=weights), metrics=accuracy, cbs=ShowGraphCallback())\n",
        "learn.fit_one_cycle(4, 3e-3)\n",
        "\n",
        "# simply replace the `Learner.dls` with new `DataLoaders` and continue traning.\n",
        "learn.dls = get_dls(64, 224)\n",
        "learn.fine_tune(5, 1e-3)"
      ],
      "metadata": {
        "id": "_I1114O-cSjm",
        "colab": {
          "base_uri": "https://localhost:8080/",
          "height": 1000
        },
        "outputId": "114d8881-8bb6-4bf8-dd48-268043e2b265"
      },
      "execution_count": 13,
      "outputs": [
        {
          "output_type": "display_data",
          "data": {
            "text/plain": [
              "<IPython.core.display.HTML object>"
            ],
            "text/html": [
              "\n",
              "<style>\n",
              "    /* Turns off some styling */\n",
              "    progress {\n",
              "        /* gets rid of default border in Firefox and Opera. */\n",
              "        border: none;\n",
              "        /* Needs to be in here for Safari polyfill so background images work as expected. */\n",
              "        background-size: auto;\n",
              "    }\n",
              "    progress:not([value]), progress:not([value])::-webkit-progress-bar {\n",
              "        background: repeating-linear-gradient(45deg, #7e7e7e, #7e7e7e 10px, #5c5c5c 10px, #5c5c5c 20px);\n",
              "    }\n",
              "    .progress-bar-interrupted, .progress-bar-interrupted::-webkit-progress-bar {\n",
              "        background: #F44336;\n",
              "    }\n",
              "</style>\n"
            ]
          },
          "metadata": {}
        },
        {
          "output_type": "display_data",
          "data": {
            "text/plain": [
              "<IPython.core.display.HTML object>"
            ],
            "text/html": [
              "<table border=\"1\" class=\"dataframe\">\n",
              "  <thead>\n",
              "    <tr style=\"text-align: left;\">\n",
              "      <th>epoch</th>\n",
              "      <th>train_loss</th>\n",
              "      <th>valid_loss</th>\n",
              "      <th>accuracy</th>\n",
              "      <th>time</th>\n",
              "    </tr>\n",
              "  </thead>\n",
              "  <tbody>\n",
              "    <tr>\n",
              "      <td>0</td>\n",
              "      <td>1.183243</td>\n",
              "      <td>1.272132</td>\n",
              "      <td>0.561137</td>\n",
              "      <td>02:26</td>\n",
              "    </tr>\n",
              "    <tr>\n",
              "      <td>1</td>\n",
              "      <td>1.039678</td>\n",
              "      <td>1.024477</td>\n",
              "      <td>0.622203</td>\n",
              "      <td>02:24</td>\n",
              "    </tr>\n",
              "    <tr>\n",
              "      <td>2</td>\n",
              "      <td>0.971426</td>\n",
              "      <td>0.957888</td>\n",
              "      <td>0.656677</td>\n",
              "      <td>02:25</td>\n",
              "    </tr>\n",
              "    <tr>\n",
              "      <td>3</td>\n",
              "      <td>0.910715</td>\n",
              "      <td>0.929538</td>\n",
              "      <td>0.662305</td>\n",
              "      <td>02:26</td>\n",
              "    </tr>\n",
              "  </tbody>\n",
              "</table>"
            ]
          },
          "metadata": {}
        },
        {
          "output_type": "display_data",
          "data": {
            "text/plain": [
              "<Figure size 600x400 with 1 Axes>"
            ],
            "image/png": "[encoded data removed]"
          },
          "metadata": {}
        },
        {
          "output_type": "display_data",
          "data": {
            "text/plain": [
              "<IPython.core.display.HTML object>"
            ],
            "text/html": [
              "\n",
              "<style>\n",
              "    /* Turns off some styling */\n",
              "    progress {\n",
              "        /* gets rid of default border in Firefox and Opera. */\n",
              "        border: none;\n",
              "        /* Needs to be in here for Safari polyfill so background images work as expected. */\n",
              "        background-size: auto;\n",
              "    }\n",
              "    progress:not([value]), progress:not([value])::-webkit-progress-bar {\n",
              "        background: repeating-linear-gradient(45deg, #7e7e7e, #7e7e7e 10px, #5c5c5c 10px, #5c5c5c 20px);\n",
              "    }\n",
              "    .progress-bar-interrupted, .progress-bar-interrupted::-webkit-progress-bar {\n",
              "        background: #F44336;\n",
              "    }\n",
              "</style>\n"
            ]
          },
          "metadata": {}
        },
        {
          "output_type": "display_data",
          "data": {
            "text/plain": [
              "<IPython.core.display.HTML object>"
            ],
            "text/html": [
              "<table border=\"1\" class=\"dataframe\">\n",
              "  <thead>\n",
              "    <tr style=\"text-align: left;\">\n",
              "      <th>epoch</th>\n",
              "      <th>train_loss</th>\n",
              "      <th>valid_loss</th>\n",
              "      <th>accuracy</th>\n",
              "      <th>time</th>\n",
              "    </tr>\n",
              "  </thead>\n",
              "  <tbody>\n",
              "    <tr>\n",
              "      <td>0</td>\n",
              "      <td>0.982644</td>\n",
              "      <td>0.963432</td>\n",
              "      <td>0.663290</td>\n",
              "      <td>02:38</td>\n",
              "    </tr>\n",
              "  </tbody>\n",
              "</table>"
            ]
          },
          "metadata": {}
        },
        {
          "output_type": "display_data",
          "data": {
            "text/plain": [
              "<Figure size 600x400 with 1 Axes>"
            ],
            "image/png": "[encoded data removed]"
          },
          "metadata": {}
        },
        {
          "output_type": "display_data",
          "data": {
            "text/plain": [
              "<IPython.core.display.HTML object>"
            ],
            "text/html": [
              "\n",
              "<style>\n",
              "    /* Turns off some styling */\n",
              "    progress {\n",
              "        /* gets rid of default border in Firefox and Opera. */\n",
              "        border: none;\n",
              "        /* Needs to be in here for Safari polyfill so background images work as expected. */\n",
              "        background-size: auto;\n",
              "    }\n",
              "    progress:not([value]), progress:not([value])::-webkit-progress-bar {\n",
              "        background: repeating-linear-gradient(45deg, #7e7e7e, #7e7e7e 10px, #5c5c5c 10px, #5c5c5c 20px);\n",
              "    }\n",
              "    .progress-bar-interrupted, .progress-bar-interrupted::-webkit-progress-bar {\n",
              "        background: #F44336;\n",
              "    }\n",
              "</style>\n"
            ]
          },
          "metadata": {}
        },
        {
          "output_type": "display_data",
          "data": {
            "text/plain": [
              "<IPython.core.display.HTML object>"
            ],
            "text/html": [
              "<table border=\"1\" class=\"dataframe\">\n",
              "  <thead>\n",
              "    <tr style=\"text-align: left;\">\n",
              "      <th>epoch</th>\n",
              "      <th>train_loss</th>\n",
              "      <th>valid_loss</th>\n",
              "      <th>accuracy</th>\n",
              "      <th>time</th>\n",
              "    </tr>\n",
              "  </thead>\n",
              "  <tbody>\n",
              "    <tr>\n",
              "      <td>0</td>\n",
              "      <td>0.909650</td>\n",
              "      <td>0.895994</td>\n",
              "      <td>0.679471</td>\n",
              "      <td>02:34</td>\n",
              "    </tr>\n",
              "    <tr>\n",
              "      <td>1</td>\n",
              "      <td>0.913021</td>\n",
              "      <td>0.884901</td>\n",
              "      <td>0.680597</td>\n",
              "      <td>02:37</td>\n",
              "    </tr>\n",
              "    <tr>\n",
              "      <td>2</td>\n",
              "      <td>0.873153</td>\n",
              "      <td>0.868691</td>\n",
              "      <td>0.692557</td>\n",
              "      <td>02:36</td>\n",
              "    </tr>\n",
              "    <tr>\n",
              "      <td>3</td>\n",
              "      <td>0.832425</td>\n",
              "      <td>0.821740</td>\n",
              "      <td>0.707471</td>\n",
              "      <td>02:36</td>\n",
              "    </tr>\n",
              "    <tr>\n",
              "      <td>4</td>\n",
              "      <td>0.832873</td>\n",
              "      <td>0.806477</td>\n",
              "      <td>0.709019</td>\n",
              "      <td>02:35</td>\n",
              "    </tr>\n",
              "  </tbody>\n",
              "</table>"
            ]
          },
          "metadata": {}
        },
        {
          "output_type": "display_data",
          "data": {
            "text/plain": [
              "<Figure size 600x400 with 1 Axes>"
            ],
            "image/png": "[encoded data removed]"
          },
          "metadata": {}
        }
      ]
    },
    {
      "cell_type": "markdown",
      "source": [
        "## TTA"
      ],
      "metadata": {
        "id": "3JhiXPXEcTBt"
      }
    },
    {
      "cell_type": "code",
      "source": [
        "# you can pass any `DataLoaders` to `tta()` (by default it uses your validation `DataLoader`)\n",
        "preds, targs = learn.tta()\n",
        "accuracy(preds, targs).item()"
      ],
      "metadata": {
        "id": "Xfd5jIyccVkI"
      },
      "execution_count": null,
      "outputs": []
    },
    {
      "cell_type": "markdown",
      "source": [
        "## MixUp"
      ],
      "metadata": {
        "id": "AW50pE6QcWxy"
      }
    },
    {
      "cell_type": "code",
      "source": [
        "model = xresnet50()\n",
        "learn = Learner(dls, model, loss_func=CrossEntropyLossFlat(), metrics=accuracy, cbs=MixUp)\n",
        "learn.fit_one_cycle(5, 3e-3)"
      ],
      "metadata": {
        "id": "OowePOascaiH"
      },
      "execution_count": null,
      "outputs": []
    },
    {
      "cell_type": "markdown",
      "source": [
        "## Label Smoothing"
      ],
      "metadata": {
        "id": "Gg1d17rBcb4K"
      }
    },
    {
      "cell_type": "code",
      "source": [
        "model = xresnet50()\n",
        "learn = Learner(dls, model, loss_func=LabelSmoothingCrossEntropy(), metrics=accuracy)\n",
        "learn.fit_one_cycle(5, 3e-3)"
      ],
      "metadata": {
        "id": "KhCar-HHcdsP"
      },
      "execution_count": null,
      "outputs": []
    },
    {
      "cell_type": "markdown",
      "source": [
        "## Model Testing"
      ],
      "metadata": {
        "id": "wpluL4TEQqMx"
      }
    },
    {
      "cell_type": "code",
      "source": [],
      "metadata": {
        "id": "wjN16gJKQsVS"
      },
      "execution_count": null,
      "outputs": []
    }
  ]
}